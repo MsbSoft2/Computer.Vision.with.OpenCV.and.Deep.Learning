{
 "cells": [
  {
   "cell_type": "code",
   "execution_count": 1,
   "metadata": {},
   "outputs": [],
   "source": [
    "import cv2 as cv"
   ]
  },
  {
   "cell_type": "code",
   "execution_count": 2,
   "metadata": {},
   "outputs": [],
   "source": [
    "cap = cv.VideoCapture(0)"
   ]
  },
  {
   "cell_type": "code",
   "execution_count": 38,
   "metadata": {},
   "outputs": [],
   "source": [
    "def draw_circle(event,x,y,flags,params):\n",
    "    \n",
    "    global center, clicked\n",
    "    \n",
    "    if event == cv.EVENT_LBUTTONDOWN:\n",
    "        center = (x,y)\n",
    "        clicked = False\n",
    "\n",
    "    if event == cv.EVENT_LBUTTONUP:\n",
    "        clicked = True\n",
    "\n",
    "center = (0,0)\n",
    "clicked = False\n",
    "\n",
    "cap = cv.VideoCapture(0)\n",
    "\n",
    "cv.namedWindow('Test')\n",
    "cv.setMouseCallback('Test',draw_circle)\n",
    "\n",
    "while True:\n",
    "    \n",
    "    ret, frame = cap.read()\n",
    "    \n",
    "    if clicked:\n",
    "        cv.circle(frame, center, radius=50, color=(255,0,0), thickness=5)\n",
    "    \n",
    "    cv.imshow('Test',frame)\n",
    "    \n",
    "    if cv.waitKey(1) & 0xFF == ord('q'):\n",
    "        break\n",
    "        \n",
    "cap.release()\n",
    "cv.destroyAllWindows()"
   ]
  }
 ],
 "metadata": {
  "kernelspec": {
   "display_name": "Python 3",
   "language": "python",
   "name": "python3"
  },
  "language_info": {
   "codemirror_mode": {
    "name": "ipython",
    "version": 3
   },
   "file_extension": ".py",
   "mimetype": "text/x-python",
   "name": "python",
   "nbconvert_exporter": "python",
   "pygments_lexer": "ipython3",
   "version": "3.7.0"
  }
 },
 "nbformat": 4,
 "nbformat_minor": 2
}
